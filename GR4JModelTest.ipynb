{
 "cells": [
  {
   "cell_type": "code",
   "execution_count": 1,
   "metadata": {
    "collapsed": false
   },
   "outputs": [
    {
     "name": "stderr",
     "output_type": "stream",
     "text": [
      "/Users/amacdon/anaconda/lib/python3.4/site-packages/matplotlib/__init__.py:872: UserWarning: axes.color_cycle is deprecated and replaced with axes.prop_cycle; please use the latter.\n",
      "  warnings.warn(self.msg_depr % (key, alt_key))\n"
     ]
    }
   ],
   "source": [
    "import seaborn as sns\n",
    "import numpy as np\n",
    "import pandas as pd\n",
    "from matplotlib import pyplot as plt\n",
    "import scipy as sp\n",
    "from hydromet.io import read_predictors, read_predictands\n",
    "from hydromet.system import get_model_config, get_model_dir\n",
    "%matplotlib inline\n",
    "from phildb.database import PhilDB\n",
    "db = PhilDB('hm_tsdb')"
   ]
  },
  {
   "cell_type": "code",
   "execution_count": 2,
   "metadata": {
    "collapsed": true
   },
   "outputs": [],
   "source": [
    "config = get_model_config('project', 'gr4j')"
   ]
  },
  {
   "cell_type": "code",
   "execution_count": 3,
   "metadata": {
    "collapsed": false
   },
   "outputs": [
    {
     "data": {
      "text/plain": [
       "datetime.date(2008, 12, 1)"
      ]
     },
     "execution_count": 3,
     "metadata": {},
     "output_type": "execute_result"
    }
   ],
   "source": [
    "config['calibration']['end_date']"
   ]
  },
  {
   "cell_type": "code",
   "execution_count": 4,
   "metadata": {
    "collapsed": true
   },
   "outputs": [],
   "source": [
    "warmup_predictors = read_predictors(db, config, '410730', 'warmup')"
   ]
  },
  {
   "cell_type": "code",
   "execution_count": 5,
   "metadata": {
    "collapsed": false
   },
   "outputs": [],
   "source": [
    "predictors = read_predictors(db, config, '410730', 'calibration')"
   ]
  },
  {
   "cell_type": "code",
   "execution_count": 6,
   "metadata": {
    "collapsed": false
   },
   "outputs": [],
   "source": [
    "predictands = read_predictands(db, config, '410730', 'calibration')"
   ]
  },
  {
   "cell_type": "code",
   "execution_count": 7,
   "metadata": {
    "collapsed": false
   },
   "outputs": [],
   "source": [
    "from hydromet.models.gr4j_model import GR4J"
   ]
  },
  {
   "cell_type": "code",
   "execution_count": 8,
   "metadata": {
    "collapsed": false
   },
   "outputs": [],
   "source": [
    "m = GR4J()"
   ]
  },
  {
   "cell_type": "code",
   "execution_count": 10,
   "metadata": {
    "collapsed": false
   },
   "outputs": [],
   "source": [
    "#m.X1[0], m.X2[0], m.X3[0], m.X3[0]\n",
    "params = (1139.9784914844802,\n",
    " -0.50826570328096576,\n",
    " 87.051727183614759,\n",
    " 87.051727183614759)"
   ]
  },
  {
   "cell_type": "code",
   "execution_count": 11,
   "metadata": {
    "collapsed": false
   },
   "outputs": [],
   "source": [
    "m.X1, m.X2, m.X3, m.X4 = params"
   ]
  },
  {
   "cell_type": "code",
   "execution_count": 12,
   "metadata": {
    "collapsed": true
   },
   "outputs": [],
   "source": [
    "fc_date = '2010-06-01'"
   ]
  },
  {
   "cell_type": "code",
   "execution_count": 17,
   "metadata": {
    "collapsed": false
   },
   "outputs": [
    {
     "name": "stdout",
     "output_type": "stream",
     "text": [
      "[ 442.16748596]\n",
      "[ 463.15247285]\n",
      "[ 449.46828544]\n",
      "[ 427.87268726]\n",
      "[ 442.51068956]\n",
      "[ 339.39069094]\n",
      "[ 389.84379137]\n",
      "[ 368.15368339]\n",
      "[ 285.49668604]\n",
      "[ 349.25768519]\n",
      "[ 14.38168366]\n",
      "[-218.47039558]\n",
      "[ 348.35967947]\n",
      "[ 366.700683]\n"
     ]
    }
   ],
   "source": [
    "for fc_date in pd.date_range('2010-01-01', '2011-02-01', freq='MS'):\n",
    "    warmup_data = read_predictors(db, config, '410730', idx = slice('2009-01-01', '2009-12-01'))\n",
    "    p = read_predictors(db, config, '410730', idx = slice(fc_date, fc_date))\n",
    "    print(np.array(m.forecast(fc_date, warmup_data, p)) * 148 - read_predictands(db, config, '410730', idx = slice(fc_date, fc_date))['Q'].values[0])"
   ]
  },
  {
   "cell_type": "code",
   "execution_count": null,
   "metadata": {
    "collapsed": true
   },
   "outputs": [],
   "source": []
  },
  {
   "cell_type": "code",
   "execution_count": 9,
   "metadata": {
    "collapsed": false
   },
   "outputs": [
    {
     "name": "stdout",
     "output_type": "stream",
     "text": [
      "differential_evolution step 1: f(x)= 0.368061\n",
      "differential_evolution step 2: f(x)= 0.350424\n",
      "differential_evolution step 3: f(x)= 0.284236\n",
      "differential_evolution step 4: f(x)= 0.252971\n",
      "differential_evolution step 5: f(x)= 0.252971\n",
      "differential_evolution step 6: f(x)= 0.252971\n",
      "differential_evolution step 7: f(x)= 0.252971\n",
      "differential_evolution step 8: f(x)= 0.252971\n",
      "differential_evolution step 9: f(x)= 0.252902\n",
      "differential_evolution step 10: f(x)= 0.252902\n",
      "differential_evolution step 11: f(x)= 0.251244\n",
      "differential_evolution step 12: f(x)= 0.251244\n",
      "differential_evolution step 13: f(x)= 0.251173\n",
      "differential_evolution step 14: f(x)= 0.251173\n",
      "differential_evolution step 15: f(x)= 0.251159\n",
      "CPU times: user 3min, sys: 211 ms, total: 3min\n",
      "Wall time: 3min\n"
     ]
    },
    {
     "data": {
      "text/plain": [
       " success: True\n",
       "     jac: array([ -3.89688282e-06,  -1.95732319e-05,  -1.99840144e-07,\n",
       "        -1.84741111e-05])\n",
       "     nit: 15\n",
       "     fun: 0.25095223475137607\n",
       " message: 'Optimization terminated successfully.'\n",
       "       x: array([  1.13997849e+03,  -5.08265703e-01,   8.70517272e+01,\n",
       "         1.21582547e+00])\n",
       "    nfev: 1140"
      ]
     },
     "execution_count": 9,
     "metadata": {},
     "output_type": "execute_result"
    }
   ],
   "source": [
    "%time m.calibrate(warmup_predictors, predictors, predictands)"
   ]
  }
 ],
 "metadata": {
  "kernelspec": {
   "display_name": "Python 3",
   "language": "python",
   "name": "python3"
  },
  "language_info": {
   "codemirror_mode": {
    "name": "ipython",
    "version": 3
   },
   "file_extension": ".py",
   "mimetype": "text/x-python",
   "name": "python",
   "nbconvert_exporter": "python",
   "pygments_lexer": "ipython3",
   "version": "3.4.4"
  }
 },
 "nbformat": 4,
 "nbformat_minor": 0
}
