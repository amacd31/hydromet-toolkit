{
 "cells": [
  {
   "cell_type": "code",
   "execution_count": 1,
   "metadata": {
    "collapsed": false
   },
   "outputs": [
    {
     "name": "stderr",
     "output_type": "stream",
     "text": [
      "/Users/amacdon/anaconda/lib/python3.4/site-packages/matplotlib/__init__.py:872: UserWarning: axes.color_cycle is deprecated and replaced with axes.prop_cycle; please use the latter.\n",
      "  warnings.warn(self.msg_depr % (key, alt_key))\n"
     ]
    }
   ],
   "source": [
    "import seaborn as sns\n",
    "import numpy as np\n",
    "import pandas as pd\n",
    "from matplotlib import pyplot as plt\n",
    "import scipy as sp\n",
    "from hydromet.io import read_predictors, read_predictands\n",
    "from hydromet.system import get_model_config, get_model_dir\n",
    "%matplotlib inline\n",
    "from phildb.database import PhilDB\n",
    "db = PhilDB('hm_tsdb')"
   ]
  },
  {
   "cell_type": "code",
   "execution_count": 2,
   "metadata": {
    "collapsed": true
   },
   "outputs": [],
   "source": [
    "config = get_model_config('project', 'gr4j')"
   ]
  },
  {
   "cell_type": "code",
   "execution_count": 3,
   "metadata": {
    "collapsed": false
   },
   "outputs": [
    {
     "data": {
      "text/plain": [
       "datetime.date(2008, 12, 1)"
      ]
     },
     "execution_count": 3,
     "metadata": {},
     "output_type": "execute_result"
    }
   ],
   "source": [
    "config['calibration']['end_date']"
   ]
  },
  {
   "cell_type": "code",
   "execution_count": 4,
   "metadata": {
    "collapsed": true
   },
   "outputs": [],
   "source": [
    "warmup_predictors = read_predictors(db, config, '410730', 'warmup')"
   ]
  },
  {
   "cell_type": "code",
   "execution_count": 5,
   "metadata": {
    "collapsed": false
   },
   "outputs": [],
   "source": [
    "predictors = read_predictors(db, config, '410730', 'calibration')"
   ]
  },
  {
   "cell_type": "code",
   "execution_count": 6,
   "metadata": {
    "collapsed": false
   },
   "outputs": [],
   "source": [
    "predictands = read_predictands(db, config, '410730', 'calibration')"
   ]
  },
  {
   "cell_type": "code",
   "execution_count": 7,
   "metadata": {
    "collapsed": false
   },
   "outputs": [],
   "source": [
    "from hydromet.models.gr4j_model import GR4J"
   ]
  },
  {
   "cell_type": "code",
   "execution_count": 8,
   "metadata": {
    "collapsed": false
   },
   "outputs": [],
   "source": [
    "m = GR4J()"
   ]
  },
  {
   "cell_type": "code",
   "execution_count": 9,
   "metadata": {
    "collapsed": false
   },
   "outputs": [],
   "source": [
    "#m.X1[0], m.X2[0], m.X3[0], m.X3[0]\n",
    "params = (1139.9784914844802,\n",
    " -0.50826570328096576,\n",
    " 87.051727183614759,\n",
    " 87.051727183614759)"
   ]
  },
  {
   "cell_type": "code",
   "execution_count": 10,
   "metadata": {
    "collapsed": false
   },
   "outputs": [],
   "source": [
    "m.X1, m.X2, m.X3, m.X4 = params"
   ]
  },
  {
   "cell_type": "code",
   "execution_count": 11,
   "metadata": {
    "collapsed": true
   },
   "outputs": [],
   "source": [
    "fc_date = '2010-06-01'"
   ]
  },
  {
   "cell_type": "code",
   "execution_count": 14,
   "metadata": {
    "collapsed": false
   },
   "outputs": [
    {
     "name": "stdout",
     "output_type": "stream",
     "text": [
      "442.167485958\n",
      "463.152472846\n",
      "449.468285441\n",
      "427.872687261\n",
      "442.510689563\n",
      "339.390690938\n",
      "389.843791371\n",
      "368.153683394\n",
      "285.496686039\n",
      "349.257685193\n",
      "14.3816836563\n",
      "-218.470395578\n",
      "348.35967947\n",
      "366.700682998\n"
     ]
    }
   ],
   "source": [
    "for fc_date in pd.date_range('2010-01-01', '2011-02-01', freq='MS'):\n",
    "    warmup_data = read_predictors(db, config, '410730', idx = slice('2009-01-01', '2009-12-01'))\n",
    "    p = read_predictors(db, config, '410730', idx = slice(fc_date, fc_date))\n",
    "    print(np.array(m.forecast(warmup_data, p))[0] * 148 - read_predictands(db, config, '410730', idx = slice(fc_date, fc_date))['Q'].values[0])"
   ]
  },
  {
   "cell_type": "code",
   "execution_count": null,
   "metadata": {
    "collapsed": true
   },
   "outputs": [],
   "source": []
  },
  {
   "cell_type": "code",
   "execution_count": null,
   "metadata": {
    "collapsed": false
   },
   "outputs": [],
   "source": [
    "%time m.calibrate(warmup_predictors, predictors, predictands)"
   ]
  }
 ],
 "metadata": {
  "kernelspec": {
   "display_name": "Python 3",
   "language": "python",
   "name": "python3"
  },
  "language_info": {
   "codemirror_mode": {
    "name": "ipython",
    "version": 3
   },
   "file_extension": ".py",
   "mimetype": "text/x-python",
   "name": "python",
   "nbconvert_exporter": "python",
   "pygments_lexer": "ipython3",
   "version": "3.4.4"
  }
 },
 "nbformat": 4,
 "nbformat_minor": 0
}
