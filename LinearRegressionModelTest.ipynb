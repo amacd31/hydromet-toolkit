{
 "cells": [
  {
   "cell_type": "code",
   "execution_count": 1,
   "metadata": {
    "collapsed": false
   },
   "outputs": [
    {
     "name": "stderr",
     "output_type": "stream",
     "text": [
      "/Users/amacdon/anaconda/lib/python3.4/site-packages/matplotlib/__init__.py:872: UserWarning: axes.color_cycle is deprecated and replaced with axes.prop_cycle; please use the latter.\n",
      "  warnings.warn(self.msg_depr % (key, alt_key))\n"
     ]
    }
   ],
   "source": [
    "import seaborn as sns\n",
    "import numpy as np\n",
    "import pandas as pd\n",
    "from matplotlib import pyplot as plt\n",
    "import scipy as sp\n",
    "from hydromet.io import read_predictors, read_predictands\n",
    "from hydromet.system import get_model_config, get_model_dir\n",
    "%matplotlib inline\n",
    "from phildb.database import PhilDB\n",
    "db = PhilDB('hm_tsdb')"
   ]
  },
  {
   "cell_type": "code",
   "execution_count": 2,
   "metadata": {
    "collapsed": true
   },
   "outputs": [],
   "source": [
    "config = get_model_config('project', 'LinearRegression')"
   ]
  },
  {
   "cell_type": "code",
   "execution_count": 3,
   "metadata": {
    "collapsed": false
   },
   "outputs": [
    {
     "data": {
      "text/plain": [
       "datetime.date(2008, 12, 1)"
      ]
     },
     "execution_count": 3,
     "metadata": {},
     "output_type": "execute_result"
    }
   ],
   "source": [
    "config['calibration']['end_date']"
   ]
  },
  {
   "cell_type": "code",
   "execution_count": 4,
   "metadata": {
    "collapsed": false
   },
   "outputs": [],
   "source": [
    "predictors = read_predictors(db, config, '410730', 'calibration')"
   ]
  },
  {
   "cell_type": "code",
   "execution_count": 5,
   "metadata": {
    "collapsed": false
   },
   "outputs": [],
   "source": [
    "predictands = read_predictands(db, config, '410730', 'calibration')"
   ]
  },
  {
   "cell_type": "code",
   "execution_count": 6,
   "metadata": {
    "collapsed": false
   },
   "outputs": [],
   "source": [
    "from hydromet.models.linear_regression import LinearRegressionModel"
   ]
  },
  {
   "cell_type": "code",
   "execution_count": 7,
   "metadata": {
    "collapsed": false
   },
   "outputs": [],
   "source": [
    "lrm = LinearRegressionModel()"
   ]
  },
  {
   "cell_type": "code",
   "execution_count": 8,
   "metadata": {
    "collapsed": false
   },
   "outputs": [],
   "source": [
    "lrm.calibrate(predictors, predictands)"
   ]
  },
  {
   "cell_type": "code",
   "execution_count": 9,
   "metadata": {
    "collapsed": true
   },
   "outputs": [],
   "source": [
    "fc_date = '2010-06-01'"
   ]
  },
  {
   "cell_type": "code",
   "execution_count": 10,
   "metadata": {
    "collapsed": false
   },
   "outputs": [
    {
     "name": "stdout",
     "output_type": "stream",
     "text": [
      "326.488413169\n",
      "4453.65130242\n",
      "332.15095665\n",
      "667.287543936\n",
      "2927.33848578\n",
      "317.536393439\n",
      "-18.9383044465\n",
      "-1368.20736822\n",
      "-6809.15706284\n",
      "-2664.07233448\n",
      "-2611.6064361\n",
      "-7219.96694703\n",
      "-3292.97404555\n",
      "783.693766107\n",
      "-1922.67172258\n",
      "-1396.93497482\n",
      "286.47629382\n",
      "264.665804855\n",
      "5.52403147837\n",
      "-503.222118183\n",
      "-185.396177992\n",
      "-394.545085975\n",
      "4192.81126957\n",
      "-3919.17968903\n"
     ]
    }
   ],
   "source": [
    "for fc_date in pd.date_range('2010-01-01', '2011-12-01', freq='MS'):\n",
    "    p = read_predictors(db, config, '410730', idx = slice(fc_date, fc_date))\n",
    "    print(lrm.forecast(p)[0][0] - read_predictands(db, config, '410730', idx = slice(fc_date, fc_date))['Q'].values[0])"
   ]
  },
  {
   "cell_type": "code",
   "execution_count": null,
   "metadata": {
    "collapsed": true
   },
   "outputs": [],
   "source": []
  }
 ],
 "metadata": {
  "kernelspec": {
   "display_name": "Python 3",
   "language": "python",
   "name": "python3"
  },
  "language_info": {
   "codemirror_mode": {
    "name": "ipython",
    "version": 3
   },
   "file_extension": ".py",
   "mimetype": "text/x-python",
   "name": "python",
   "nbconvert_exporter": "python",
   "pygments_lexer": "ipython3",
   "version": "3.4.4"
  }
 },
 "nbformat": 4,
 "nbformat_minor": 0
}
